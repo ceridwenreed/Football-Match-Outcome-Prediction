{
 "cells": [
  {
   "cell_type": "markdown",
   "metadata": {},
   "source": [
    "## Model Explained\n",
    "\n",
    "This notebook is used evaluate the best model for the dataset, perform hyperparameter tuning and cross validation for our chosen model."
   ]
  },
  {
   "cell_type": "code",
   "execution_count": 8,
   "metadata": {},
   "outputs": [],
   "source": [
    "import numpy as np\n",
    "import pandas as pd\n",
    "from sklearn.preprocessing import StandardScaler\n",
    "from sklearn.metrics import accuracy_score\n",
    "from sklearn.model_selection import train_test_split\n",
    "from sklearn.neighbors import KNeighborsClassifier\n",
    "from sklearn.tree import DecisionTreeClassifier\n",
    "from sklearn.linear_model import LogisticRegression\n",
    "from sklearn.ensemble import AdaBoostClassifier, GradientBoostingClassifier, RandomForestClassifier\n",
    "from sklearn.pipeline import make_pipeline\n",
    "from matplotlib import pyplot as plt\n",
    "from sklearn.model_selection import KFold, StratifiedKFold \n",
    "from sklearn.model_selection import TimeSeriesSplit\n",
    "from sklearn.model_selection import GridSearchCV\n",
    "from sklearn.model_selection import RandomizedSearchCV\n",
    "from sklearn.model_selection import cross_val_score, cross_val_predict\n",
    "from sklearn.metrics import confusion_matrix, ConfusionMatrixDisplay"
   ]
  },
  {
   "cell_type": "code",
   "execution_count": 2,
   "metadata": {},
   "outputs": [],
   "source": [
    "# load dataset\n",
    "df = pd.read_json('feature_eng_dataset.json')\n",
    "X = df.loc[:, ~df.columns.isin(['Outcome', 'Home_Win'])]\n",
    "y = df['Home_Win']\n",
    "\n",
    "X = X.drop([\n",
    "    'Season',\n",
    "    'Elo_home_avg_3',\n",
    "    'Elo_home_avg_10',\n",
    "    'Elo_away_avg_3',\n",
    "    'Elo_away_avg_10',\n",
    "    'Home_Goals_avg_3',\n",
    "    'Away_Goals_avg_3',\n",
    "    'Home_Defence',\n",
    "    'Away_Defence',\n",
    "    'Home_Streak',\n",
    "    'Away_Streak',\n",
    "    'Home_Team_Outcome_sum_3',\n",
    "    'Away_Team_Outcome_sum_3',\n",
    "    'Home_Goals_avg_10',\n",
    "    'Away_Goals_avg_10'   \n",
    "    ], axis=1)"
   ]
  },
  {
   "cell_type": "code",
   "execution_count": 3,
   "metadata": {},
   "outputs": [],
   "source": [
    "# split and standardise\n",
    "def split_datasets(X, y):\n",
    "    X_train, X_test, y_train, y_test = train_test_split(X, y, test_size=0.3, random_state=42)\n",
    "    return X_train, X_test, y_train, y_test"
   ]
  },
  {
   "cell_type": "code",
   "execution_count": 4,
   "metadata": {},
   "outputs": [],
   "source": [
    "def compare_models(models, X_train, y_train, y_test):\n",
    "    for model in models:\n",
    "        model[1].fit(X_train, y_train)\n",
    "        y_pred = model[1].predict(X_test)\n",
    "        accu = accuracy_score(y_test, y_pred) * 100\n",
    "        print(\n",
    "            f\"{model[0]}: \"\n",
    "            f\"Accuracy: {accu:.2f}\"\n",
    "            )\n",
    "    return"
   ]
  },
  {
   "cell_type": "code",
   "execution_count": 12,
   "metadata": {},
   "outputs": [
    {
     "name": "stdout",
     "output_type": "stream",
     "text": [
      "lgr: Accuracy: 60.50\n",
      "rfc: Accuracy: 58.46\n",
      "knn: Accuracy: 56.42\n",
      "dtc: Accuracy: 54.05\n",
      "abc: Accuracy: 60.25\n",
      "gbc: Accuracy: 60.55\n"
     ]
    }
   ],
   "source": [
    "np.random.seed(2)\n",
    "\n",
    "models = [\n",
    "    ('lgr', make_pipeline(StandardScaler(), LogisticRegression())),\n",
    "    ('rfc', RandomForestClassifier(max_depth=2)),\n",
    "    ('knn', make_pipeline(StandardScaler(), KNeighborsClassifier())),\n",
    "    ('dtc', DecisionTreeClassifier()),\n",
    "    ('abc', AdaBoostClassifier()),\n",
    "    ('gbc', GradientBoostingClassifier())\n",
    "    ]\n",
    "\n",
    "X_train, X_test, y_train, y_test = split_datasets(X, y)\n",
    "compare_models(models, X_train, y_train, y_test)"
   ]
  },
  {
   "cell_type": "markdown",
   "metadata": {},
   "source": [
    "### Hyperparameter Tuning"
   ]
  },
  {
   "cell_type": "markdown",
   "metadata": {},
   "source": [
    "#### Hyperparameter tuning for Logistic Regression with Grid Search\n",
    "\n",
    "https://scikit-learn.org/stable/modules/generated/sklearn.linear_model.LogisticRegression.html"
   ]
  },
  {
   "cell_type": "code",
   "execution_count": null,
   "metadata": {},
   "outputs": [],
   "source": [
    "model_1 = LogisticRegression()\n",
    "params = {\n",
    "    'solver': ['newton-cg', 'lbfgs', 'liblinear'],\n",
    "    'penalty': ['none', 'l1', 'l2', 'elasticnet'],\n",
    "    'C': [1e-5, 1e-4, 1e-3, 1e-2, 1e-1, 1, 10, 100]}\n",
    "\n",
    "cv = KFold(n_splits=10, random_state=1, shuffle=True)\n",
    "grid_search = GridSearchCV(model_1, params, scoring='accuracy', n_jobs=-1, cv=cv)\n",
    "grid_result = grid_search.fit(X_train, y_train)\n",
    "print(f'Best Score: {grid_result.best_score_ * 100:.2f}%')\n",
    "print(f'Best Hyperparameters: {grid_result.best_params_}')"
   ]
  },
  {
   "cell_type": "markdown",
   "metadata": {},
   "source": [
    "    Best Score: 60.93%\n",
    "    Best Hyperparameters: {'C': 0.001, 'penalty': 'l2', 'solver': 'lbfgs'}"
   ]
  },
  {
   "cell_type": "markdown",
   "metadata": {},
   "source": [
    "#### Verfiy Grid Search with Random Search method"
   ]
  },
  {
   "cell_type": "code",
   "execution_count": null,
   "metadata": {},
   "outputs": [],
   "source": [
    "from scipy.stats import uniform\n",
    "\n",
    "distributions = dict(C=uniform(loc=0, scale=4),\n",
    "                    penalty=['l2', 'l1'])\n",
    "\n",
    "ran_search = RandomizedSearchCV(model_1, params, n_iter = 20, cv = 3, verbose=2, random_state=42, n_jobs = -1)\n",
    "ran_result = ran_search.fit(X_train, y_train)\n",
    "print(f'Best score: {ran_result.best_score_ * 100:.2f}%')\n",
    "print(f'Best params: {ran_result.best_params_}')"
   ]
  },
  {
   "cell_type": "markdown",
   "metadata": {},
   "source": [
    "    Best score: 60.88%\n",
    "    Best params: {'solver': 'lbfgs', 'penalty': 'l2', 'C': 0.001}"
   ]
  },
  {
   "cell_type": "markdown",
   "metadata": {},
   "source": [
    "#### Hyperparameter tuning for Gradient Boosting \n",
    "\n",
    "https://www.analyticsvidhya.com/blog/2016/02/complete-guide-parameter-tuning-gradient-boosting-gbm-python/"
   ]
  },
  {
   "cell_type": "code",
   "execution_count": 18,
   "metadata": {},
   "outputs": [
    {
     "name": "stdout",
     "output_type": "stream",
     "text": [
      "Fitting 3 folds for each of 1 candidates, totalling 3 fits\n",
      "[CV] END .................................................... total time=   8.8s\n",
      "[CV] END .................................................... total time=   8.9s\n",
      "[CV] END .................................................... total time=   9.3s\n",
      "Best Score: 60.87%\n",
      "Best Hyperparameters: {}\n"
     ]
    }
   ],
   "source": [
    "n_estimators = [int(x) for x in np.linspace(start = 10, stop = 200, num = 20)]\n",
    "min_split = [int(x) for x in np.linspace(start = 100, stop = 500, num = 4)]\n",
    "max_depth = [int(x) for x in np.linspace(2, 32, num = 4)]\n",
    "min_leaf = [int(x) for x in np.linspace(start = 1, stop = 50, num = 5)]\n",
    "max_features = [int(x) for x in np.linspace(start = 7, stop = 10, num = 7)]\n",
    "\n",
    "grid = {#'n_estimators': n_estimators,\n",
    "#        'min_samples_split': min_split,\n",
    "#        'max_depth': max_depth,\n",
    "#        'min_samples_leaf': min_leaf,\n",
    "#        'max_features': max_features,\n",
    "#        'subsample':[0.6,0.7,0.75,0.8,0.85,0.9,1.0],\n",
    "        }\n",
    "\n",
    "model_2 = GradientBoostingClassifier(n_estimators= 130, learning_rate=0.1, max_depth=2, min_samples_split=100, max_features=7, subsample = 0.9)\n",
    "grid_search = GridSearchCV(model_2, grid, cv = 3, verbose=2, n_jobs = -1)\n",
    "grid_result = grid_search.fit(X_train, y_train)\n",
    "print(f'Best Score: {grid_result.best_score_ * 100:.2f}%')\n",
    "print(f'Best Hyperparameters: {grid_result.best_params_}')"
   ]
  },
  {
   "cell_type": "markdown",
   "metadata": {},
   "source": [
    "    Best Score: 60.87%"
   ]
  },
  {
   "cell_type": "markdown",
   "metadata": {},
   "source": [
    "#### Assess feature importance from Gradient Boost model"
   ]
  },
  {
   "cell_type": "code",
   "execution_count": 29,
   "metadata": {},
   "outputs": [
    {
     "data": {
      "text/plain": [
       "Text(0, 0.5, 'Feature Importance Score')"
      ]
     },
     "execution_count": 29,
     "metadata": {},
     "output_type": "execute_result"
    },
    {
     "data": {
      "image/png": "[encoded data removed]",
      "text/plain": [
       "<Figure size 432x288 with 1 Axes>"
      ]
     },
     "metadata": {
      "needs_background": "light"
     },
     "output_type": "display_data"
    }
   ],
   "source": [
    "feat_imp = pd.Series(model_2.feature_importances_, X.columns).sort_values(ascending=False)\n",
    "feat_imp.plot(kind='bar', title='Feature Importances')\n",
    "plt.ylabel('Feature Importance Score')"
   ]
  },
  {
   "cell_type": "markdown",
   "metadata": {},
   "source": [
    "#### Hyperparameter tuning for AdaBoost Classification\n",
    "\n",
    "https://medium.com/@chaudhurysrijani/tuning-of-adaboost-with-computational-complexity-8727d01a9d20 "
   ]
  },
  {
   "cell_type": "code",
   "execution_count": null,
   "metadata": {},
   "outputs": [],
   "source": [
    "from sklearn.model_selection import RepeatedStratifiedKFold\n",
    "from numpy import mean\n",
    "from numpy import std\n",
    "\n",
    "def get_models():\n",
    "\tmodels = dict()\n",
    "\t# explore depths from 1 to 10\n",
    "\tfor i in range(1,11):\n",
    "\t\t# define base model\n",
    "\t\tbase = DecisionTreeClassifier(max_depth=i)\n",
    "\t\t# define ensemble model\n",
    "\t\tmodels[str(i)] = AdaBoostClassifier(n_estimators=150, base_estimator=base)\n",
    "\treturn models\n",
    "\n",
    "# evaluate a given model using cross-validation\n",
    "def evaluate_model(model, X, y):\n",
    "\t# define the evaluation procedure\n",
    "\tcv = RepeatedStratifiedKFold(n_splits=10, n_repeats=3, random_state=1)\n",
    "\t# evaluate the model and collect the results\n",
    "\tscores = cross_val_score(model, X, y, scoring='accuracy', cv=cv, n_jobs=-1)\n",
    "\treturn scores\n",
    "\n",
    "# get the models to evaluate\n",
    "models = get_models()\n",
    "# evaluate the models and store results\n",
    "results, names = list(), list()\n",
    "for name, model in models.items():\n",
    "\t# evaluate the model\n",
    "\tscores = evaluate_model(model, X, y)\n",
    "\t# store the results\n",
    "\tresults.append(scores)\n",
    "\tnames.append(name)\n",
    "\t# summarize the performance along the way\n",
    "\tprint('>%s %.3f (%.3f)' % (name, mean(scores), std(scores)))"
   ]
  },
  {
   "cell_type": "code",
   "execution_count": 17,
   "metadata": {},
   "outputs": [
    {
     "name": "stdout",
     "output_type": "stream",
     "text": [
      "Fitting 3 folds for each of 2 candidates, totalling 6 fits\n",
      "[CV] END ....................................algorithm=SAMME; total time=   7.5s\n",
      "[CV] END ....................................algorithm=SAMME; total time=   8.0s\n",
      "[CV] END ....................................algorithm=SAMME; total time=   9.9s\n",
      "[CV] END ..................................algorithm=SAMME.R; total time=  10.7s\n",
      "[CV] END ..................................algorithm=SAMME.R; total time=   7.6s\n",
      "[CV] END ..................................algorithm=SAMME.R; total time=   7.5s\n",
      "Best Score: 60.98%\n",
      "Best Hyperparameters: {'algorithm': 'SAMME.R'}\n"
     ]
    }
   ],
   "source": [
    "n_estimators = [int(x) for x in np.linspace(start = 10, stop = 200, num = 20)]\n",
    "\n",
    "grid = {#'n_estimators': n_estimators,\n",
    "#        'learning_rate': [1.0, 1.1, 1.2, 1.3, 1.4, 1.5, 1.6, 1.7, 1.8, 1.9, 2.0],\n",
    "#        'algorithm': ['SAMME', 'SAMME.R']\n",
    "        }\n",
    "\n",
    "base = DecisionTreeClassifier(max_depth=1)\n",
    "model_3 = AdaBoostClassifier(n_estimators=150, base_estimator=base)\n",
    "\n",
    "grid_search = GridSearchCV(model_3, grid, cv = 3, verbose=2, n_jobs = -1)\n",
    "grid_result = grid_search.fit(X_train, y_train)\n",
    "print(f'Best Score: {grid_result.best_score_ * 100:.2f}%')\n",
    "print(f'Best Hyperparameters: {grid_result.best_params_}')"
   ]
  },
  {
   "cell_type": "markdown",
   "metadata": {},
   "source": [
    "    Best Score: 60.98%"
   ]
  },
  {
   "cell_type": "markdown",
   "metadata": {},
   "source": [
    "### Model Evaluation\n",
    "\n",
    "#### Confusion matrices and prediction probability:\n",
    "\n",
    "The predicted class probabilities of an input sample is computed as the weighted mean predicted class probabilities of the classifiers in the ensemble."
   ]
  },
  {
   "cell_type": "code",
   "execution_count": 45,
   "metadata": {},
   "outputs": [],
   "source": [
    "def pred_proba_plot(clf, X, y, cv=5, no_bins=25, x_min=0.5, x_max=1, classifier=''):\n",
    "    '''\n",
    "    Histogram display of correcly predicted results against incorrectly given results given the outputed probability of the classifier.\n",
    "    \n",
    "    '''\n",
    "    y_dup = []\n",
    "    correct_guess_pred = []\n",
    "    incorrect_guess_pred = []\n",
    "    \n",
    "    skf = StratifiedKFold(n_splits=cv, shuffle=True)\n",
    "    y_pred_cv = cross_val_predict(clf, X, y, cv=skf)\n",
    "    y_pred_proba_cv = cross_val_predict(clf, X, y, cv=skf, method='predict_proba')\n",
    "    y_dup.append(list(y))\n",
    "    for i in range(len(y_pred_cv)):\n",
    "        if y_pred_cv[i] == list(y)[i]:\n",
    "            correct_guess_pred.append(max(y_pred_proba_cv[i]))\n",
    "        if y_pred_cv[i] != list(y)[i]:\n",
    "            incorrect_guess_pred.append(max(y_pred_proba_cv[i]))         \n",
    "    \n",
    "    bins = np.linspace(x_min, x_max, no_bins)\n",
    "    fig, ax = plt.subplots()\n",
    "    ax.hist(incorrect_guess_pred, bins, alpha=0.5, edgecolor='#1E212A', color='red', label='Incorrect Prediction')\n",
    "    ax.hist(correct_guess_pred, bins, alpha=0.5, edgecolor='#1E212A', color='green', label='Correct Prediction')\n",
    "    ax.legend()\n",
    "    ax.set_title(f'{classifier}', y=1, fontsize=16, fontweight='bold');\n",
    "    ax.set(ylabel='Number of Occurences',\n",
    "            xlabel='Prediction Probability')\n",
    "    return fig"
   ]
  },
  {
   "cell_type": "code",
   "execution_count": 46,
   "metadata": {},
   "outputs": [],
   "source": [
    "def cross_val_confusion_matrix(clf, X, y, display_labels='', title='', cv=5):\n",
    "    '''\n",
    "    Function to plot confusion matrix given the result of cross-validation.\n",
    "    '''\n",
    "    \n",
    "    y_pred = cross_val_predict(clf, X, y, cv=cv)\n",
    "    cm_norm = confusion_matrix(y, y_pred, normalize='true')\n",
    "    fig = ConfusionMatrixDisplay(confusion_matrix=cm_norm, display_labels=display_labels)\n",
    "    fig.plot(cmap=plt.cm.Blues)\n",
    "    fig.ax_.set_title(title)\n",
    "    \n",
    "    return fig"
   ]
  },
  {
   "cell_type": "code",
   "execution_count": 47,
   "metadata": {},
   "outputs": [],
   "source": [
    "model_1 = LogisticRegression(solver='lbfgs', penalty='l2', C=0.001)\n",
    "model_2 = GradientBoostingClassifier(n_estimators= 130, learning_rate=0.1, max_depth=2, min_samples_split=100, max_features=7, subsample = 0.9)\n",
    "base = DecisionTreeClassifier(max_depth=1)\n",
    "model_3 = AdaBoostClassifier(n_estimators=150, base_estimator=base)"
   ]
  },
  {
   "cell_type": "code",
   "execution_count": null,
   "metadata": {},
   "outputs": [],
   "source": [
    "fig_lgr = pred_proba_plot(model_1, \n",
    "                            X, \n",
    "                            y,\n",
    "                            no_bins=40,\n",
    "                            x_min=0.5,\n",
    "                            classifier='Logistic Regression')"
   ]
  },
  {
   "cell_type": "code",
   "execution_count": null,
   "metadata": {},
   "outputs": [],
   "source": [
    "skf = StratifiedKFold(n_splits=5, shuffle=True)\n",
    "\n",
    "cross_val_confusion_matrix(model_1, X, y, \n",
    "                            display_labels=('other', 'win'), \n",
    "                            title='Logistic Regression Confusion Matrix', \n",
    "                            cv=skf)"
   ]
  },
  {
   "cell_type": "markdown",
   "metadata": {},
   "source": [
    "#### Pairwise relationship plot with sns PairGrid"
   ]
  },
  {
   "cell_type": "code",
   "execution_count": null,
   "metadata": {},
   "outputs": [],
   "source": [
    "import seaborn as sns\n",
    "\n",
    "res = {-1: \"Loss\",\n",
    "        1: \"Victory\",\n",
    "        0: \"Draw\"}\n",
    "\n",
    "df = df.replace({'Outcome':res})\n",
    "\n",
    "grid = sns.PairGrid(df, hue=\"Outcome\", palette='Set1', height=5)\n",
    "grid.map_diag(sns.histplot)\n",
    "grid.map_offdiag(sns.scatterplot)\n",
    "grid.add_legend()"
   ]
  },
  {
   "cell_type": "markdown",
   "metadata": {},
   "source": [
    "#### Cross validation:\n",
    "\n",
    "Different cross validation techniques are used to see how they impact the output scores at each fold and to validate that the model is outputting consistent predictions (to satisfy the reliability of the model).\n",
    "\n",
    "https://goldinlocks.github.io/Time-Series-Cross-Validation/"
   ]
  },
  {
   "cell_type": "code",
   "execution_count": 50,
   "metadata": {},
   "outputs": [
    {
     "name": "stdout",
     "output_type": "stream",
     "text": [
      "K-Fold CV: ['61.63%', '61.16%', '60.89%', '60.80%', '60.48%']\n",
      "Time Series CV: ['60.38%', '60.38%', '60.93%', '60.43%', '60.19%', '60.35%', '61.23%', '61.46%', '61.10%', '61.43%']\n",
      "Blocking Time Series CV: ['60.46%', '57.63%', '61.70%', '57.00%', '59.90%', '61.63%', '60.04%', '61.97%', '60.80%', '61.42%']\n"
     ]
    }
   ],
   "source": [
    "class BlockingTimeSeriesSplit():\n",
    "    \n",
    "    def __init__(self, n_splits):\n",
    "        self.n_splits = n_splits\n",
    "    \n",
    "    def get_n_splits(self, X, y, groups):\n",
    "        return self.n_splits\n",
    "    \n",
    "    def split(self, X, y=None, groups=None):\n",
    "        n_samples = len(X)\n",
    "        k_fold_size = n_samples // self.n_splits\n",
    "        indices = np.arange(n_samples)\n",
    "\n",
    "        margin = 0\n",
    "        for i in range(self.n_splits):\n",
    "            start = i * k_fold_size\n",
    "            stop = start + k_fold_size\n",
    "            mid = int(0.8 * (stop - start)) + start\n",
    "            yield indices[start: mid], indices[mid + margin: stop]\n",
    "\n",
    "cv_techniques = [\n",
    "    ('K-Fold CV', KFold(n_splits=5, random_state=1, shuffle=True)),\n",
    "    ('Time Series CV', TimeSeriesSplit(n_splits=10)),\n",
    "    ('Blocking Time Series CV', BlockingTimeSeriesSplit(n_splits=10))\n",
    "]\n",
    "\n",
    "model_1 = LogisticRegression(solver='lbfgs', penalty='l2', C=0.001)\n",
    "model_2 = GradientBoostingClassifier(n_estimators= 130, learning_rate=0.1, max_depth=2, min_samples_split=100, max_features=7, subsample = 0.9)\n",
    "base = DecisionTreeClassifier(max_depth=1)\n",
    "model_3 = AdaBoostClassifier(n_estimators=150, base_estimator=base)\n",
    "\n",
    "for cvs in cv_techniques:\n",
    "\n",
    "    accu = cross_val_score(model_2, X_train, y_train, cv=cvs[1], n_jobs=-1, scoring='accuracy')\n",
    "    accu = [f'{a * 100:.2f}%' for a in accu]\n",
    "    print(f'{cvs[0]}: {accu}')"
   ]
  },
  {
   "cell_type": "markdown",
   "metadata": {},
   "source": [
    "### Significant difference:\n",
    "\n",
    "As the accuracy scores for different models are similar, is it necessary to determine if there is significance difference between these results.\n",
    "\n",
    "https://machinelearningmastery.com/statistical-significance-tests-for-comparing-machine-learning-algorithms/\n",
    "https://www.maartengrootendorst.com/blog/validate/\n",
    "\n",
    "    H0 = no significant difference between models\n",
    "    H1 = significant difference between models"
   ]
  },
  {
   "cell_type": "markdown",
   "metadata": {},
   "source": [
    "Wilcoxon signed-rank test: uses k accuracy scores of each model from k-fold cross-validation to test if the two samples differ significantly from each other. If p<0.05, reject the null hypothesis, H0. "
   ]
  },
  {
   "cell_type": "code",
   "execution_count": 25,
   "metadata": {},
   "outputs": [],
   "source": [
    "model_lgr = LogisticRegression(solver='lbfgs', penalty='l2', C=0.001)\n",
    "model_gbc = GradientBoostingClassifier(n_estimators= 130, learning_rate=0.1, max_depth=2, min_samples_split=100, max_features=7, subsample = 0.9)\n",
    "base = DecisionTreeClassifier(max_depth=1)\n",
    "model_abc = AdaBoostClassifier(n_estimators=150, base_estimator=base)"
   ]
  },
  {
   "cell_type": "code",
   "execution_count": 27,
   "metadata": {},
   "outputs": [],
   "source": [
    "from scipy.stats import wilcoxon\n",
    "\n",
    "def wilcoxon_test(model_1, model_2):\n",
    "    \n",
    "    model_1.fit(X_train, y_train)\n",
    "    model_2.fit(X_train, y_train)\n",
    "    \n",
    "    model_1_scores = cross_val_score(model_1, X_train, y_train, cv=cv_techniques[0][1], n_jobs=-1, scoring='accuracy')\n",
    "    model_2_scores = cross_val_score(model_2, X_train, y_train, cv=cv_techniques[0][1], n_jobs=-1, scoring='accuracy')\n",
    "    \n",
    "    stat, p = wilcoxon(model_1_scores, model_2_scores, zero_method='zsplit')\n",
    "    \n",
    "    print(\n",
    "        f\"{model_1} vs {model_2}:\",\n",
    "        f\"Wilcoxon test: {stat, p}\"\n",
    "        )\n",
    "    return"
   ]
  },
  {
   "cell_type": "code",
   "execution_count": 29,
   "metadata": {},
   "outputs": [
    {
     "name": "stdout",
     "output_type": "stream",
     "text": [
      "LogisticRegression(C=0.001) vs GradientBoostingClassifier(max_depth=2, max_features=7, min_samples_split=100,\n",
      "                           n_estimators=130, subsample=0.9) Wilcoxon test: (2.0, 0.1875)\n",
      "LogisticRegression(C=0.001) vs AdaBoostClassifier(base_estimator=DecisionTreeClassifier(max_depth=1),\n",
      "                   n_estimators=150) Wilcoxon test: (5.0, 0.625)\n",
      "GradientBoostingClassifier(max_depth=2, max_features=7, min_samples_split=100,\n",
      "                           n_estimators=130, subsample=0.9) vs AdaBoostClassifier(base_estimator=DecisionTreeClassifier(max_depth=1),\n",
      "                   n_estimators=150) Wilcoxon test: (1.0, 0.125)\n"
     ]
    }
   ],
   "source": [
    "wilcoxon_test(model_lgr, model_gbc)\n",
    "wilcoxon_test(model_lgr, model_abc)\n",
    "wilcoxon_test(model_gbc, model_abc)"
   ]
  },
  {
   "cell_type": "markdown",
   "metadata": {},
   "source": [
    "McNemar’s test: is a statistical test for paired nominal data. Specifically, it is used to compare the predictive accuracy of two models. McNemar's test is based on a 2x2 contingency table of the two model's predictions. From that table, we can calculate chi-squared (x²) which can be used to compute the p-value"
   ]
  },
  {
   "cell_type": "code",
   "execution_count": 42,
   "metadata": {},
   "outputs": [],
   "source": [
    "import numpy as np\n",
    "from mlxtend.evaluate import mcnemar_table, mcnemar\n",
    "\n",
    "def mcnemar_test(model_1, model_2):\n",
    "    \n",
    "    model_1_predict = model_1.predict(X_test)\n",
    "    model_2_predict = model_2.predict(X_test)\n",
    "    \n",
    "    tb = mcnemar_table(y_target = y_test, \n",
    "                        y_model1 = model_1_predict, \n",
    "                        y_model2 = model_2_predict)\n",
    "    chi2, p = mcnemar(ary=tb, exact=True)\n",
    "    \n",
    "    print(f\"{model_1} vs {model_2}:\",\n",
    "        f'{accuracy_score(y_test, model_1_predict) * 100:.2f}%',\n",
    "        f'{accuracy_score(y_test, model_2_predict) * 100:.2f}%',\n",
    "        f'chi-squared: {chi2}',\n",
    "        f'p-value: {p}')\n",
    "    \n",
    "    return"
   ]
  },
  {
   "cell_type": "code",
   "execution_count": 44,
   "metadata": {},
   "outputs": [
    {
     "name": "stdout",
     "output_type": "stream",
     "text": [
      "LogisticRegression(C=0.001) vs GradientBoostingClassifier(max_depth=2, max_features=7, min_samples_split=100,\n",
      "                           n_estimators=130, subsample=0.9): 60.27% 60.21% chi-squared: 1818 p-value: 0.7659107154719285\n",
      "LogisticRegression(C=0.001) vs AdaBoostClassifier(base_estimator=DecisionTreeClassifier(max_depth=1),\n",
      "                   n_estimators=150): 60.27% 60.03% chi-squared: 1979 p-value: 0.2502882305859997\n",
      "GradientBoostingClassifier(max_depth=2, max_features=7, min_samples_split=100,\n",
      "                           n_estimators=130, subsample=0.9) vs AdaBoostClassifier(base_estimator=DecisionTreeClassifier(max_depth=1),\n",
      "                   n_estimators=150): 60.21% 60.03% chi-squared: 967 p-value: 0.22595878362927932\n"
     ]
    }
   ],
   "source": [
    "mcnemar_test(model_lgr, model_gbc)\n",
    "mcnemar_test(model_lgr, model_abc)\n",
    "mcnemar_test(model_gbc, model_abc)"
   ]
  },
  {
   "cell_type": "markdown",
   "metadata": {},
   "source": [
    "combined 5x2CV F-test: procedure to compare the performance of two models. We assume a significance threshold of α=0.05 for rejecting the null hypothesis that both algorithms perform equally well on the dataset. "
   ]
  },
  {
   "cell_type": "code",
   "execution_count": 39,
   "metadata": {},
   "outputs": [],
   "source": [
    "from mlxtend.evaluate import combined_ftest_5x2cv\n",
    "\n",
    "def f_test(model_1, model_2):\n",
    "    \n",
    "    t, p = combined_ftest_5x2cv(estimator1 = model_1,\n",
    "                            estimator2 = model_2,\n",
    "                            X = X_train, y = y_train,\n",
    "                            random_seed=1)\n",
    "    \n",
    "    print(f\"{model_1} vs {model_2}:\",\n",
    "        f't statistic: {t: .3f}',\n",
    "        f'p value: %.3f {p: .3f}')\n",
    "    \n",
    "    return"
   ]
  },
  {
   "cell_type": "code",
   "execution_count": 41,
   "metadata": {},
   "outputs": [
    {
     "name": "stdout",
     "output_type": "stream",
     "text": [
      "LogisticRegression(C=0.001) vs GradientBoostingClassifier(max_depth=2, max_features=7, min_samples_split=100,\n",
      "                           n_estimators=130, subsample=0.9) t statistic:  4.827 p value: %.3f  0.048\n",
      "LogisticRegression(C=0.001) vs AdaBoostClassifier(base_estimator=DecisionTreeClassifier(max_depth=1),\n",
      "                   n_estimators=150) t statistic:  3.147 p value: %.3f  0.109\n",
      "GradientBoostingClassifier(max_depth=2, max_features=7, min_samples_split=100,\n",
      "                           n_estimators=130, subsample=0.9) vs AdaBoostClassifier(base_estimator=DecisionTreeClassifier(max_depth=1),\n",
      "                   n_estimators=150) t statistic:  1.619 p value: %.3f  0.310\n"
     ]
    }
   ],
   "source": [
    "f_test(model_lgr, model_gbc)\n",
    "f_test(model_lgr, model_abc)\n",
    "f_test(model_gbc, model_abc)"
   ]
  },
  {
   "cell_type": "markdown",
   "metadata": {},
   "source": [
    "#### Statistical vs. Practical Significance\n",
    "\n",
    "Statistical significance refers to the unlikelihood that mean differences observed in the sample have occurred due to sampling error. Given a large enough sample, despite seemingly insignificant population differences, one might still find statistical significance. \n",
    "\n",
    "Practical significance looks at whether the difference is large enough to be of value in a practical sense, this is more subjective.\n",
    "\n",
    "https://towardsdatascience.com/comparing-machine-learning-models-statistical-vs-practical-significance-de345c38b42a\n",
    "\n",
    "Large sample size: means small differences can be detected with a hypothesis test and therefore those tiny deviations could be perceived as significant.\n",
    "\n",
    "mlxtend combined 5x2CV F-test takes in the full training set sample size (approx 7k samples) which is a very large sample. Therefore, while p<0.05 for the f-test, based on the other hypothesis testing and pratical significance we can make an intuitive decision that there is no significant difference between the models. "
   ]
  }
 ],
 "metadata": {
  "interpreter": {
   "hash": "c06b237160dce937b4e28b39103a0ec7f27cacf16c319f63cb1c746820d6a216"
  },
  "kernelspec": {
   "display_name": "Python 3.8.12 ('myenv')",
   "language": "python",
   "name": "python3"
  },
  "language_info": {
   "codemirror_mode": {
    "name": "ipython",
    "version": 3
   },
   "file_extension": ".py",
   "mimetype": "text/x-python",
   "name": "python",
   "nbconvert_exporter": "python",
   "pygments_lexer": "ipython3",
   "version": "3.8.12"
  },
  "orig_nbformat": 4
 },
 "nbformat": 4,
 "nbformat_minor": 2
}
